{
  "nbformat": 4,
  "nbformat_minor": 0,
  "metadata": {
    "colab": {
      "name": "Untitled1.ipynb",
      "provenance": [],
      "collapsed_sections": []
    },
    "kernelspec": {
      "name": "python3",
      "display_name": "Python 3"
    },
    "language_info": {
      "name": "python"
    }
  },
  "cells": [
    {
      "cell_type": "code",
      "execution_count": 1,
      "metadata": {
        "id": "-uZIZrkpagKV"
      },
      "outputs": [],
      "source": [
        "import numpy as np\n",
        "import matplotlib.pyplot as plt\n",
        "import tensorflow as tf"
      ]
    },
    {
      "cell_type": "code",
      "source": [
        "(X_train, Y_train), (X_test, Y_test) = tf.keras.datasets.cifar10.load_data()\n",
        "print(X_train.shape)"
      ],
      "metadata": {
        "colab": {
          "base_uri": "https://localhost:8080/"
        },
        "id": "JQwi-87GatQz",
        "outputId": "db30e64b-e080-487d-abc8-1607f6476f2d"
      },
      "execution_count": 2,
      "outputs": [
        {
          "output_type": "stream",
          "name": "stdout",
          "text": [
            "Downloading data from https://www.cs.toronto.edu/~kriz/cifar-10-python.tar.gz\n",
            "170500096/170498071 [==============================] - 2s 0us/step\n",
            "170508288/170498071 [==============================] - 2s 0us/step\n",
            "(50000, 32, 32, 3)\n"
          ]
        }
      ]
    },
    {
      "cell_type": "code",
      "source": [
        "accuracy = []\n",
        "\n",
        "for k in range(1, 21):\n",
        "  print(\"k: \", k)\n",
        "  acc = []\n",
        "  for f in range(5):\n",
        "    # divide data into folds\n",
        "    validationX, validationY = X_train[f*10000:(f+1)*10000], Y_train[f*10000:(f+1)*10000]\n",
        "    trainX = np.concatenate((X_train[:f*10000], X_train[(f+1)*10000:]), axis = 0)\n",
        "    trainY = np.concatenate((Y_train[:f*10000], Y_train[(f+1)*10000:]), axis = 0)\n",
        "    cm = ce = 0         # c for correct, m for manhattan, e for euclidean\n",
        "\n",
        "    for i in range(len(validationX)):\n",
        "      man_distance = []\n",
        "      euc_distance = []\n",
        "\n",
        "      for j in range(len(trainX)):\n",
        "        \n",
        "        # manhattan - calculating distance between two images\n",
        "        l1 = np.sum(np.absolute(np.subtract(validationX[i], trainX[j])))\n",
        "\n",
        "        # euclidean - calculation distance between two images\n",
        "        l2 = np.sqrt(np.sum((validationX[i] - trainX[j])**2))\n",
        "\n",
        "        man_distance.append([l1, trainY[j][0]])\n",
        "        euc_distance.append([l2, trainY[j][0]])\n",
        "        \n",
        "        if j == 400:\n",
        "            break\n",
        "\n",
        "      man_distance = np.array(man_distance)\n",
        "      man_distance = man_distance[man_distance[:, 0].argsort()]\n",
        "      euc_distance = np.array(euc_distance)\n",
        "      euc_distance = euc_distance[euc_distance[:, 0].argsort()]\n",
        "      \n",
        "      # for manhattan distance\n",
        "      values = man_distance[:k, 1]\n",
        "\n",
        "      # print(values)\n",
        "      most_frequent_value = np.argmax(np.bincount(values.astype('int32')))\n",
        "\n",
        "      # print(most_frequent_value)\n",
        "      if most_frequent_value == validationY[i]:\n",
        "        cm += 1\n",
        "        \n",
        "      # for euclidean distance\n",
        "      values = euc_distance[:k, 1]\n",
        "      most_frequent_value = np.argmax(np.bincount(values.astype('int32')))\n",
        "      if most_frequent_value == validationY[i]:\n",
        "        ce += 1\n",
        "\n",
        "\n",
        "      if i == 120:\n",
        "        break\n",
        "\n",
        "    acc.append([cm, ce])\n",
        "  accuracy.append([acc, k])\n",
        "\n",
        "print(accuracy)\n"
      ],
      "metadata": {
        "colab": {
          "base_uri": "https://localhost:8080/"
        },
        "id": "22SLe_XkbAXb",
        "outputId": "11cd173a-27a8-4d0f-9e0b-e040d55357b2"
      },
      "execution_count": 5,
      "outputs": [
        {
          "output_type": "stream",
          "name": "stdout",
          "text": [
            "k:  1\n",
            "k:  2\n",
            "k:  3\n",
            "k:  4\n",
            "k:  5\n",
            "k:  6\n",
            "k:  7\n",
            "k:  8\n",
            "k:  9\n",
            "k:  10\n",
            "k:  11\n",
            "k:  12\n",
            "k:  13\n",
            "k:  14\n",
            "k:  15\n",
            "k:  16\n",
            "k:  17\n",
            "k:  18\n",
            "k:  19\n",
            "k:  20\n",
            "[[[[18, 18], [29, 21], [17, 12], [24, 21], [13, 14]], 1], [[[17, 11], [21, 24], [19, 15], [24, 22], [16, 14]], 2], [[[27, 12], [27, 18], [18, 18], [25, 18], [14, 15]], 3], [[[20, 17], [29, 29], [19, 17], [20, 25], [16, 18]], 4], [[[13, 17], [25, 24], [20, 18], [24, 23], [12, 19]], 5], [[[14, 16], [24, 20], [21, 18], [25, 20], [16, 17]], 6], [[[16, 17], [27, 22], [18, 17], [25, 19], [21, 20]], 7], [[[20, 20], [28, 20], [24, 18], [22, 21], [20, 23]], 8], [[[15, 16], [28, 21], [22, 19], [23, 21], [22, 22]], 9], [[[17, 15], [27, 24], [22, 20], [27, 24], [25, 22]], 10], [[[19, 13], [26, 19], [23, 22], [23, 28], [25, 23]], 11], [[[17, 14], [24, 20], [23, 22], [26, 28], [24, 26]], 12], [[[15, 16], [21, 20], [24, 20], [23, 21], [26, 24]], 13], [[[17, 16], [20, 23], [27, 21], [20, 22], [25, 25]], 14], [[[21, 14], [20, 25], [23, 19], [23, 25], [23, 21]], 15], [[[16, 14], [20, 26], [22, 19], [22, 21], [22, 20]], 16], [[[16, 19], [20, 24], [21, 21], [23, 20], [26, 24]], 17], [[[16, 20], [20, 22], [20, 19], [19, 18], [24, 28]], 18], [[[16, 16], [22, 18], [20, 19], [21, 20], [26, 26]], 19], [[[13, 17], [23, 18], [19, 20], [23, 21], [27, 26]], 20]]\n"
          ]
        }
      ]
    },
    {
      "cell_type": "code",
      "source": [
        "avg1 = []\n",
        "avg2 = []\n",
        "k = np.array(accuracy)[:,1]\n",
        "\n",
        "plt.figure(figsize=(20,5))\n",
        "\n",
        "\n",
        "plt.subplot(1,2,2)\n",
        "plt.title('Cross-Validation on K')\n",
        "for i in range(len(accuracy)):\n",
        "  a = np.full((5), i+1, dtype=int)\n",
        "  l2 = np.array(accuracy[i][0])[:,1]\n",
        "  avg2.append(np.average(l2))\n",
        "  plt.plot(a, l2, 'o-')\n",
        "\n",
        "plt.plot(k, avg2, 'o-')\n",
        "plt.xlabel('k')\n",
        "plt.ylabel('cross-validation accuracy')\n",
        "\n",
        "plt.show()"
      ],
      "metadata": {
        "colab": {
          "base_uri": "https://localhost:8080/",
          "height": 405
        },
        "id": "PDLHv0iPb2mT",
        "outputId": "f558ce1b-7fa7-4654-903b-af8dc5360ac2"
      },
      "execution_count": 6,
      "outputs": [
        {
          "output_type": "stream",
          "name": "stderr",
          "text": [
            "/usr/local/lib/python3.7/dist-packages/ipykernel_launcher.py:3: VisibleDeprecationWarning: Creating an ndarray from ragged nested sequences (which is a list-or-tuple of lists-or-tuples-or ndarrays with different lengths or shapes) is deprecated. If you meant to do this, you must specify 'dtype=object' when creating the ndarray.\n",
            "  This is separate from the ipykernel package so we can avoid doing imports until\n"
          ]
        },
        {
          "output_type": "display_data",
          "data": {
            "text/plain": [
              "<Figure size 1440x360 with 1 Axes>"
            ],
            "image/png": "[encoded data removed]"
          },
          "metadata": {
            "needs_background": "light"
          }
        }
      ]
    },
    {
      "cell_type": "markdown",
      "source": [
        "Is KNN a good choice or bad choice?\n",
        "\n",
        "For image identification, KNN is a poor choice. The accuracy after employing the KNN method for image classification was only 28%, as seen in the plotted graph. As a result, it is clearly insufficient for picture classification. While KNN is unreliable for image classification, Neural Network is a better option because it uses several neurons to detect and identify images more effectively."
      ],
      "metadata": {
        "id": "A8Sv8BKjcdwZ"
      }
    }
  ]
}